#!/usr/bin/env python
# coding: utf-8

# In[1]:


1+1


# In[3]:


ord('A')


# In[5]:


chr(65)


# In[7]:


def indexOfLetter(c):
    return ord(c) - 65


# In[8]:


indexOfLetter('Y')


# In[ ]:
